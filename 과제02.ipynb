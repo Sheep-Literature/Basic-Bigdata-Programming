{
 "cells": [
  {
   "cell_type": "code",
   "execution_count": 1,
   "id": "a0445b7a-dbeb-46d0-9698-eedc6d75bfca",
   "metadata": {},
   "outputs": [
    {
     "name": "stdout",
     "output_type": "stream",
     "text": [
      "0 1 4 4 "
     ]
    }
   ],
   "source": [
    "import random\n",
    "while True : \n",
    "    i = random.randint(0,5)\n",
    "    if i == 2 : \n",
    "        break\n",
    "    print ( i , end = \" \")"
   ]
  },
  {
   "cell_type": "code",
   "execution_count": 11,
   "id": "3d09c2d7-cab8-4128-b1b5-af2d0ef99aac",
   "metadata": {},
   "outputs": [
    {
     "name": "stdout",
     "output_type": "stream",
     "text": [
      "4 5 0 0 4 3 0 0 5 5 4 3 "
     ]
    }
   ],
   "source": [
    "import random \n",
    "\n",
    "for i in iter(lambda : random.randint(0,5) , 2) : \n",
    "    print (i, end = ' ')"
   ]
  }
 ],
 "metadata": {
  "kernelspec": {
   "display_name": "Python 3 (ipykernel)",
   "language": "python",
   "name": "python3"
  },
  "language_info": {
   "codemirror_mode": {
    "name": "ipython",
    "version": 3
   },
   "file_extension": ".py",
   "mimetype": "text/x-python",
   "name": "python",
   "nbconvert_exporter": "python",
   "pygments_lexer": "ipython3",
   "version": "3.12.4"
  }
 },
 "nbformat": 4,
 "nbformat_minor": 5
}
