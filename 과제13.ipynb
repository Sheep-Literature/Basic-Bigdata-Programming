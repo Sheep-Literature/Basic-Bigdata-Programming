{
 "cells": [
  {
   "cell_type": "code",
   "execution_count": 35,
   "id": "ae5317b6-a1ca-4eef-b947-38bc3584fe89",
   "metadata": {},
   "outputs": [
    {
     "data": {
      "text/plain": [
       "{3: ['Jonh', 'Joe', 'Tom'],\n",
       " 2: ['Alice', 'Paul', 'David', 'Bob'],\n",
       " 4: ['Cindy', 'Stella', 'Bill'],\n",
       " 1: ['Henry', 'Jenny', 'Jessica', 'Erin', 'Tim']}"
      ]
     },
     "execution_count": 35,
     "metadata": {},
     "output_type": "execute_result"
    }
   ],
   "source": [
    "fp = open(\"ban_stu.txt\", \"wt\", encoding =\"cp949\")\n",
    "fp.write(\"2 Alice Paul David Bob\\n\")\n",
    "fp.write(\"4 Cindy Stella Bill\\n\") \n",
    "fp.write(\"1 Henry Jenny Jessica Erin Tim\\n\")\n",
    "fp.write(\"3 Jonh Joe Tom\") \n",
    "\n",
    "f = open(\"ban_stu.txt\", \"rt\", encoding = \"cp949\")\n",
    "l = []\n",
    "D={}\n",
    "\n",
    "for line in f:\n",
    "    l.append(line.strip())\n",
    "\n",
    "for i in range(len(l)) :\n",
    "    k = l[i-1][1:].split(' ')\n",
    "    D[int(l[i-1][0])] = k[1:]\n",
    "        \n",
    "D\n"
   ]
  }
 ],
 "metadata": {
  "kernelspec": {
   "display_name": "Python 3 (ipykernel)",
   "language": "python",
   "name": "python3"
  },
  "language_info": {
   "codemirror_mode": {
    "name": "ipython",
    "version": 3
   },
   "file_extension": ".py",
   "mimetype": "text/x-python",
   "name": "python",
   "nbconvert_exporter": "python",
   "pygments_lexer": "ipython3",
   "version": "3.12.4"
  }
 },
 "nbformat": 4,
 "nbformat_minor": 5
}
