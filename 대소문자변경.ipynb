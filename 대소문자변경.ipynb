{
 "cells": [
  {
   "cell_type": "markdown",
   "id": "83277fd3-2a7f-4129-9fb4-9d04d740b5b6",
   "metadata": {},
   "source": [
    "### 함수 만들기\n",
    "- 문자열만 입력되는 경우로 가정해서 코드를 작성하였습니다."
   ]
  },
  {
   "cell_type": "markdown",
   "id": "dfa67356-97c8-45c4-97a4-89394ae90e68",
   "metadata": {},
   "source": [
    "#### 대문자 소문자 바꾸는 함수\n",
    "- 영문자가 아니면 단순복사 해야함"
   ]
  },
  {
   "cell_type": "code",
   "execution_count": 1,
   "id": "1e8dbd9e-d0c9-451c-a52d-fd39c162820d",
   "metadata": {},
   "outputs": [],
   "source": [
    "def Swap(String) : \n",
    "    a = ''\n",
    "    for i in String :\n",
    "        if i.isupper() : \n",
    "            i = i.lower()\n",
    "            a = a + i\n",
    "        else : \n",
    "            i = i.upper()\n",
    "            a = a + i\n",
    "    return a"
   ]
  },
  {
   "cell_type": "markdown",
   "id": "d7b233eb-1667-427b-929a-c3a9f13e62fa",
   "metadata": {},
   "source": [
    "#### 문자 개수 세는 함수\n",
    "- 공백이 입력되는 경우를 놓쳤다..!\n",
    "  if c.isspace() :\n",
    "      continue"
   ]
  },
  {
   "cell_type": "code",
   "execution_count": 2,
   "id": "88c34dbe-1da8-4a45-8afa-f61d189caad9",
   "metadata": {},
   "outputs": [],
   "source": [
    "def CountNumber(String) : \n",
    "    dict = {}\n",
    "    for i in String : \n",
    "        i = i.lower()\n",
    "        if i not in dict : \n",
    "            dict[i] = 1\n",
    "        else : \n",
    "            dict[i] = dict[i] + 1\n",
    "    return dict"
   ]
  },
  {
   "cell_type": "markdown",
   "id": "3d6150d2-4633-4b2e-b3ac-a3225a6a09ec",
   "metadata": {},
   "source": [
    "#### 메인 함수\n",
    "- if __name__ == \"__main__\" : 넣어주기?"
   ]
  },
  {
   "cell_type": "code",
   "execution_count": 3,
   "id": "267edcdc-fb6c-4bbe-ad7a-7e6267110d2a",
   "metadata": {},
   "outputs": [
    {
     "name": "stdin",
     "output_type": "stream",
     "text": [
      "Input :  Sogang\n"
     ]
    },
    {
     "name": "stdout",
     "output_type": "stream",
     "text": [
      "( s : 1 ) ( o : 1 ) ( g : 2 ) ( a : 1 ) ( n : 1 ) \n",
      "sOGANG\n"
     ]
    },
    {
     "name": "stdin",
     "output_type": "stream",
     "text": [
      "Input :  SOGANG\n"
     ]
    },
    {
     "name": "stdout",
     "output_type": "stream",
     "text": [
      "( s : 1 ) ( o : 1 ) ( g : 2 ) ( a : 1 ) ( n : 1 ) \n",
      "sogang\n"
     ]
    },
    {
     "name": "stdin",
     "output_type": "stream",
     "text": [
      "Input :  Univ\n"
     ]
    },
    {
     "name": "stdout",
     "output_type": "stream",
     "text": [
      "( u : 1 ) ( n : 1 ) ( i : 1 ) ( v : 1 ) \n",
      "uNIV\n"
     ]
    },
    {
     "name": "stdin",
     "output_type": "stream",
     "text": [
      "Input :  Tel\n"
     ]
    },
    {
     "name": "stdout",
     "output_type": "stream",
     "text": [
      "( t : 1 ) ( e : 1 ) ( l : 1 ) \n",
      "tEL\n"
     ]
    },
    {
     "name": "stdin",
     "output_type": "stream",
     "text": [
      "Input :  StrAwBErRy\n"
     ]
    },
    {
     "name": "stdout",
     "output_type": "stream",
     "text": [
      "( s : 1 ) ( t : 1 ) ( r : 3 ) ( a : 1 ) ( w : 1 ) ( b : 1 ) ( e : 1 ) ( y : 1 ) \n",
      "sTRaWbeRrY\n"
     ]
    },
    {
     "name": "stdin",
     "output_type": "stream",
     "text": [
      "Input :  STOP\n"
     ]
    },
    {
     "name": "stdout",
     "output_type": "stream",
     "text": [
      "Bye\n"
     ]
    }
   ],
   "source": [
    "while True : \n",
    "    \n",
    "    String = input(\"Input : \")\n",
    "    \n",
    "    if String == \"STOP\" : \n",
    "        print(\"Bye\")\n",
    "        break\n",
    "        \n",
    "    else : \n",
    "        a = Swap(String)\n",
    "        dict = CountNumber(String)\n",
    "        for x,y in zip(dict.keys(), dict.values()) :\n",
    "            print('(',x,':',y,')', end = ' ')\n",
    "\n",
    "        print('')\n",
    "        print(a)\n",
    "             "
   ]
  }
 ],
 "metadata": {
  "kernelspec": {
   "display_name": "Python 3 (ipykernel)",
   "language": "python",
   "name": "python3"
  },
  "language_info": {
   "codemirror_mode": {
    "name": "ipython",
    "version": 3
   },
   "file_extension": ".py",
   "mimetype": "text/x-python",
   "name": "python",
   "nbconvert_exporter": "python",
   "pygments_lexer": "ipython3",
   "version": "3.12.4"
  }
 },
 "nbformat": 4,
 "nbformat_minor": 5
}
