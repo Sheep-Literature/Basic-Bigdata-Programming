{
 "cells": [
  {
   "cell_type": "markdown",
   "id": "f44d60ec-71a8-4118-9648-9158b22eeaaf",
   "metadata": {},
   "source": [
    "### 1. 파이썬을 활용하여 운영체제 종류 구하기 "
   ]
  },
  {
   "cell_type": "code",
   "execution_count": 1,
   "id": "ba2363e7-4fe9-4f46-a86e-0f903395d4a1",
   "metadata": {},
   "outputs": [
    {
     "data": {
      "text/plain": [
       "'nt'"
      ]
     },
     "execution_count": 1,
     "metadata": {},
     "output_type": "execute_result"
    }
   ],
   "source": [
    "import os\n",
    "os.name "
   ]
  },
  {
   "cell_type": "markdown",
   "id": "74c774d9-e8ba-41a4-9909-36ecbe1ee1cb",
   "metadata": {},
   "source": [
    "### 2. 명령행 인자 활용하기"
   ]
  },
  {
   "cell_type": "code",
   "execution_count": 39,
   "id": "9f514118-0fd0-4e28-b5f9-780be9c1349d",
   "metadata": {},
   "outputs": [
    {
     "name": "stdout",
     "output_type": "stream",
     "text": [
      "Writing leapArg.py\n"
     ]
    }
   ],
   "source": [
    "%%writefile leapArg.py\n",
    "\n",
    "import datetime\n",
    "import sys\n",
    "if __name__ == \"__main__\" : \n",
    "    L = sys.argv\n",
    "    t1 = datetime.date(int(L[1]), int(L[2]), int(L[3]))\n",
    "    w1 = t1.weekday()\n",
    "    wdl = [\"월요일\",\"화요일\",\"수요일\",\"목요일\",\"금요일\",\"토요일\",\"일요일\"]\n",
    "\n",
    "    print(wdl[w1])"
   ]
  },
  {
   "cell_type": "code",
   "execution_count": 40,
   "id": "e426a362-179c-495a-af48-4d596ce954a9",
   "metadata": {},
   "outputs": [
    {
     "name": "stdout",
     "output_type": "stream",
     "text": [
      "일요일\n"
     ]
    }
   ],
   "source": [
    "%run leapArg.py 2018 4 15"
   ]
  },
  {
   "cell_type": "markdown",
   "id": "e11a7287-674c-4cef-a043-2420d3b43ef3",
   "metadata": {},
   "source": [
    "### 3. math 모듈로 수식 작성하기 "
   ]
  },
  {
   "cell_type": "code",
   "execution_count": 38,
   "id": "034cf5eb-f4c4-49f7-a2d1-c617a4af6e74",
   "metadata": {},
   "outputs": [
    {
     "name": "stdout",
     "output_type": "stream",
     "text": [
      "-1.6351885780427125e-13 2.939601270583009e+48 1.0000000000000002\n"
     ]
    }
   ],
   "source": [
    "import math \n",
    "\n",
    "res1 = 2000 / math.log(20) * math.sin(2 * math.pi)\n",
    "res2 = 3**100 * math.log(300)\n",
    "res3 = math.sin(math.radians(45)) * math.sqrt(2)\n",
    "\n",
    "print(res1, res2, res3)"
   ]
  },
  {
   "cell_type": "markdown",
   "id": "e26e8249-a2ea-4aaf-b2eb-ada77b324ce7",
   "metadata": {},
   "source": [
    "### 4. Random 모듈을 활용하여 가위바위보 게임 만들기"
   ]
  },
  {
   "cell_type": "code",
   "execution_count": 37,
   "id": "306764e8-86e8-4729-857d-aafe60cbfb53",
   "metadata": {},
   "outputs": [
    {
     "name": "stdin",
     "output_type": "stream",
     "text": [
      "가위, 바위, 보 중 하나를 선택하시오 :  가위\n"
     ]
    },
    {
     "name": "stdout",
     "output_type": "stream",
     "text": [
      "플레이어 : 가위\n",
      "컴퓨터 : 보\n",
      "당신이 이겼습니다\n"
     ]
    }
   ],
   "source": [
    "import random \n",
    "\n",
    "inp = input(\"가위, 바위, 보 중 하나를 선택하시오 : \")\n",
    "print(f\"플레이어 : {inp}\")\n",
    "rsp = ('가위', '바위', '보')\n",
    "cpt = rsp[random.randint(0, 2)]\n",
    "print(f\"컴퓨터 : {cpt}\")\n",
    "\n",
    "if inp == \"가위\" :\n",
    "    if cpt== \"가위\" : \n",
    "        print(\"비겼습니다.\")\n",
    "    elif cpt == \"바위\" :\n",
    "        print(\"컴퓨터가 이겼습니다\")\n",
    "    else : \n",
    "        print(\"당신이 이겼습니다\") \n",
    "\n",
    "if inp == \"바위\" : \n",
    "    if cpt == \"바위\" : \n",
    "        print(\"비겼습니다\")\n",
    "    elif cpt == \"보\" : \n",
    "        print(\"컴퓨터가 이겼습니다\") \n",
    "    else : \n",
    "        print(\"당신이 이겼습니다\")\n",
    "\n",
    "if inp == \"보\" :\n",
    "    if cpt == \"보\" : \n",
    "        print(\"비겼습니다\")\n",
    "    elif cpt == \"가위\" : \n",
    "        print(\"컴퓨터가 이겼습니다\")\n",
    "    else : \n",
    "        print(\"당신이 이겼습니다\")"
   ]
  }
 ],
 "metadata": {
  "kernelspec": {
   "display_name": "Python 3 (ipykernel)",
   "language": "python",
   "name": "python3"
  },
  "language_info": {
   "codemirror_mode": {
    "name": "ipython",
    "version": 3
   },
   "file_extension": ".py",
   "mimetype": "text/x-python",
   "name": "python",
   "nbconvert_exporter": "python",
   "pygments_lexer": "ipython3",
   "version": "3.12.4"
  }
 },
 "nbformat": 4,
 "nbformat_minor": 5
}
