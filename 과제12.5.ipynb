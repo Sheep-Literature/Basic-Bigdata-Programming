{
 "cells": [
  {
   "cell_type": "code",
   "execution_count": 2,
   "id": "c77134cb-7917-45df-95e7-89ba65fd8c46",
   "metadata": {},
   "outputs": [
    {
     "name": "stdout",
     "output_type": "stream",
     "text": [
      "[88, 90, 88, 79, 86]\n"
     ]
    }
   ],
   "source": [
    "fp = open(\"score.txt\", \"wt\", encoding =\"cp949\")\n",
    "fp.write(\"88\\n\")\n",
    "fp.write(\"90\\n\")\n",
    "fp.write(\"88\\n\")\n",
    "fp.write(\"79\\n\")\n",
    "fp.write(\"86\\n\")\n",
    "\n",
    "f = open(\"score.txt\", \"rt\", encoding = 'cp949')\n",
    "\n",
    "l = []\n",
    "for line in f:\n",
    "    l.append(int(line.strip()))\n",
    "\n",
    "print(l)\n"
   ]
  }
 ],
 "metadata": {
  "kernelspec": {
   "display_name": "Python 3 (ipykernel)",
   "language": "python",
   "name": "python3"
  },
  "language_info": {
   "codemirror_mode": {
    "name": "ipython",
    "version": 3
   },
   "file_extension": ".py",
   "mimetype": "text/x-python",
   "name": "python",
   "nbconvert_exporter": "python",
   "pygments_lexer": "ipython3",
   "version": "3.12.4"
  }
 },
 "nbformat": 4,
 "nbformat_minor": 5
}
