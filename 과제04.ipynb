{
 "cells": [
  {
   "cell_type": "code",
   "execution_count": 12,
   "id": "590c36b0-7468-4b94-b0b9-ceee939f6ea1",
   "metadata": {},
   "outputs": [
    {
     "name": "stdout",
     "output_type": "stream",
     "text": [
      "initializing verbose\n",
      "Program start\n",
      "\n",
      "Begin my_function\n",
      "hello, Mickey!\n",
      "End my_function \n",
      "\n",
      "Begin my_function\n",
      "hello, Minnie!\n",
      "End my_function \n",
      "\n",
      "Begin my_function\n",
      "hello, Donald!\n",
      "End my_function \n",
      "\n"
     ]
    }
   ],
   "source": [
    "class verbose : \n",
    "    def __init__(self, f) : \n",
    "        print(\"initializing verbose\")\n",
    "        self.func = f\n",
    "\n",
    "    def __call__(self, str) : \n",
    "        print(\"Begin\", self.func.__name__)\n",
    "        self.func(str)\n",
    "        print(\"End\", self.func.__name__,\"\\n\")\n",
    "\n",
    "@verbose\n",
    "def my_function(str) :\n",
    "    print(f\"hello, {str}!\")\n",
    "\n",
    "\n",
    "print(\"Program start\\n\")\n",
    "my_function(\"Mickey\")\n",
    "my_function(\"Minnie\")\n",
    "my_function(\"Donald\")"
   ]
  }
 ],
 "metadata": {
  "kernelspec": {
   "display_name": "Python 3 (ipykernel)",
   "language": "python",
   "name": "python3"
  },
  "language_info": {
   "codemirror_mode": {
    "name": "ipython",
    "version": 3
   },
   "file_extension": ".py",
   "mimetype": "text/x-python",
   "name": "python",
   "nbconvert_exporter": "python",
   "pygments_lexer": "ipython3",
   "version": "3.12.4"
  }
 },
 "nbformat": 4,
 "nbformat_minor": 5
}
