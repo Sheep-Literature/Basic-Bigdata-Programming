{
 "cells": [
  {
   "cell_type": "code",
   "execution_count": 12,
   "id": "c79c812c-090e-4eb0-9ee4-a4a40fc77578",
   "metadata": {},
   "outputs": [],
   "source": [
    "import time \n",
    "t = time.localtime() \n",
    "\n",
    "class Date : \n",
    "    def __init__(self, dateString) : \n",
    "        self.date = dateString \n",
    "        self.year = ''\n",
    "        self.month = ''\n",
    "        self.day = ''\n",
    "        self.result = ''\n",
    "        \n",
    "        L = self.date.split(',') \n",
    "        self.year = int(self.year + L[0])\n",
    "        self.month = int(self.month + L[1]) \n",
    "        self.day = int(self.day + L[2])\n",
    "        \n",
    "        self.result = str(self.year) + ', ' + str(self.month) + ', ' + str(self.day) \n",
    "\n",
    "        t = time.localtime() \n",
    "        if self.result == f\"{t.tm_year}, {t.tm_mon}, {t.tm_mday}\" : \n",
    "            self.result = \"today\" \n",
    "        else : pass\n",
    "        \n",
    "    def show(self) : \n",
    "        print(f\"date : {self.result}\")\n",
    "\n",
    "    @staticmethod\n",
    "    def now() : \n",
    "        return Date(f\"{t.tm_year}, {t.tm_mon}, {t.tm_mday}\") \n",
    "        \n",
    "    @staticmethod\n",
    "    def cal_yesterday(dateString) : \n",
    "        \n",
    "        mdl = [31,28,31,30,31,30,31,31,30,31,30,31] \n",
    "        L1 = dateString.split(',') \n",
    "        year = int(L1[0])\n",
    "        month = int(L1[1]) \n",
    "        day = int(L1[2]) \n",
    "        \n",
    "        day = day - 1\n",
    "        if day == 0 : \n",
    "            month = month - 1\n",
    "            if month == 0 : \n",
    "                year = year - 1\n",
    "                month =12\n",
    "            if year % 4 == 0 or (year % 100 != 0 and year % 400 == 0) : \n",
    "                mdl[1] = mdl[1] + 1\n",
    "            else : pass\n",
    "        \n",
    "            day = mdl[month-1]\n",
    "\n",
    "        return Date(f\"{year}, {month}, {day}\")\n",
    "        \n",
    "        "
   ]
  },
  {
   "cell_type": "code",
   "execution_count": 13,
   "id": "8821b7ae-b96a-469a-b2b3-696e9f921e9a",
   "metadata": {},
   "outputs": [
    {
     "name": "stdout",
     "output_type": "stream",
     "text": [
      "date : 2022, 4, 7\n",
      "date : today\n",
      "date : 2022, 4, 6\n"
     ]
    }
   ],
   "source": [
    "a = Date(\"2022, 4, 7\")\n",
    "a.show()\n",
    "b = Date.now()\n",
    "b.show() \n",
    "c = Date.cal_yesterday(\"2022, 4, 7\")\n",
    "c.show()"
   ]
  },
  {
   "cell_type": "code",
   "execution_count": 14,
   "id": "eded9aaf-ce46-414b-9fcd-84a60a4e56a2",
   "metadata": {},
   "outputs": [
    {
     "name": "stdout",
     "output_type": "stream",
     "text": [
      "date : today\n",
      "date : today\n",
      "date : 2020, 2, 29\n"
     ]
    }
   ],
   "source": [
    "a = Date(\"2024, 11, 7\")\n",
    "a.show()\n",
    "b = Date.now()\n",
    "b.show() \n",
    "c = Date.cal_yesterday(\"2020, 3, 1\")\n",
    "c.show()"
   ]
  }
 ],
 "metadata": {
  "kernelspec": {
   "display_name": "Python 3 (ipykernel)",
   "language": "python",
   "name": "python3"
  },
  "language_info": {
   "codemirror_mode": {
    "name": "ipython",
    "version": 3
   },
   "file_extension": ".py",
   "mimetype": "text/x-python",
   "name": "python",
   "nbconvert_exporter": "python",
   "pygments_lexer": "ipython3",
   "version": "3.12.4"
  }
 },
 "nbformat": 4,
 "nbformat_minor": 5
}
