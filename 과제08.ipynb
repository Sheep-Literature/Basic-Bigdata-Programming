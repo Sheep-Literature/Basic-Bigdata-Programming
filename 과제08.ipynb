{
 "cells": [
  {
   "cell_type": "code",
   "execution_count": 2,
   "id": "208676fc-c9e0-4177-accb-e84c35749684",
   "metadata": {},
   "outputs": [
    {
     "name": "stdout",
     "output_type": "stream",
     "text": [
      "True\n"
     ]
    }
   ],
   "source": [
    "class Food(object) : \n",
    "    def __init__(self, name, price) : \n",
    "        self.name = name\n",
    "        self.price = price \n",
    "\n",
    "    def __lt__(self, other) : # less than.\n",
    "        return self.price < other.price \n",
    "\n",
    "    def __add__(self, other) : \n",
    "        return self.price + other.price \n",
    "\n",
    "food_1 = Food(\"아이스크림\", 3000) \n",
    "food_2 = Food(\"햄버거\", 5000) \n",
    "print(food_1 < food_2)"
   ]
  },
  {
   "cell_type": "code",
   "execution_count": 8,
   "id": "5169131f-2e57-45d2-9b1f-2510c7d31e42",
   "metadata": {},
   "outputs": [
    {
     "name": "stdout",
     "output_type": "stream",
     "text": [
      "False\n"
     ]
    }
   ],
   "source": [
    "food_3 = Food(\"빙수\", 8000) \n",
    "print(food_3 < food_2)"
   ]
  },
  {
   "cell_type": "code",
   "execution_count": 6,
   "id": "1a675ca0-fc3c-4d19-ac71-d0e48b4d0ee9",
   "metadata": {},
   "outputs": [
    {
     "name": "stdout",
     "output_type": "stream",
     "text": [
      "True\n",
      "8000\n"
     ]
    }
   ],
   "source": [
    "print(food_1 < food_2)\n",
    "print(food_1 + food_2)"
   ]
  }
 ],
 "metadata": {
  "kernelspec": {
   "display_name": "Python 3 (ipykernel)",
   "language": "python",
   "name": "python3"
  },
  "language_info": {
   "codemirror_mode": {
    "name": "ipython",
    "version": 3
   },
   "file_extension": ".py",
   "mimetype": "text/x-python",
   "name": "python",
   "nbconvert_exporter": "python",
   "pygments_lexer": "ipython3",
   "version": "3.12.4"
  }
 },
 "nbformat": 4,
 "nbformat_minor": 5
}
