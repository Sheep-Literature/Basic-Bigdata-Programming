{
 "cells": [
  {
   "cell_type": "code",
   "execution_count": 2,
   "id": "ae609384-bec7-4dab-a45e-911e18fa1c74",
   "metadata": {},
   "outputs": [
    {
     "name": "stdout",
     "output_type": "stream",
     "text": [
      "Overwriting fibonaccii.py\n"
     ]
    }
   ],
   "source": [
    "%%writefile fibonaccii.py\n",
    "def Fibo_func(n) : \n",
    "    a, b = 0,1\n",
    "    for i in range(n+1) : \n",
    "        yield a\n",
    "        a, b = b, a+b"
   ]
  },
  {
   "cell_type": "code",
   "execution_count": 3,
   "id": "5d3de416-2be8-4e16-97b9-9fda87aafa4c",
   "metadata": {},
   "outputs": [],
   "source": [
    "%run fibonaccii.py"
   ]
  },
  {
   "cell_type": "code",
   "execution_count": 4,
   "id": "ce49de19-7d7d-45dd-bccf-5a72591d59ba",
   "metadata": {},
   "outputs": [],
   "source": [
    "import fibonaccii\n",
    "fib = fibonaccii.Fibo_func(10)"
   ]
  },
  {
   "cell_type": "code",
   "execution_count": 5,
   "id": "a88db20e-925b-4ebf-af60-69c0ccf50907",
   "metadata": {},
   "outputs": [
    {
     "name": "stdout",
     "output_type": "stream",
     "text": [
      "0\n",
      "1\n",
      "1\n",
      "2\n",
      "3\n",
      "5\n",
      "8\n",
      "13\n",
      "21\n",
      "34\n",
      "55\n"
     ]
    }
   ],
   "source": [
    "for i in fib : \n",
    "    print(i)"
   ]
  }
 ],
 "metadata": {
  "kernelspec": {
   "display_name": "Python 3 (ipykernel)",
   "language": "python",
   "name": "python3"
  },
  "language_info": {
   "codemirror_mode": {
    "name": "ipython",
    "version": 3
   },
   "file_extension": ".py",
   "mimetype": "text/x-python",
   "name": "python",
   "nbconvert_exporter": "python",
   "pygments_lexer": "ipython3",
   "version": "3.12.4"
  }
 },
 "nbformat": 4,
 "nbformat_minor": 5
}
