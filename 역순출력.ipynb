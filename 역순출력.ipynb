{
 "cells": [
  {
   "cell_type": "code",
   "execution_count": 3,
   "id": "9f9197c3-7a08-45bc-9c02-d89e44ff94da",
   "metadata": {},
   "outputs": [
    {
     "name": "stdin",
     "output_type": "stream",
     "text": [
      "Input :  Sogang University\n"
     ]
    },
    {
     "name": "stdout",
     "output_type": "stream",
     "text": [
      "\n",
      "S\n",
      "oS\n",
      "goS\n",
      "agoS\n",
      "nagoS\n",
      "gnagoS\n",
      " gnagoS\n",
      "U gnagoS\n",
      "nU gnagoS\n",
      "inU gnagoS\n",
      "vinU gnagoS\n",
      "evinU gnagoS\n",
      "revinU gnagoS\n",
      "srevinU gnagoS\n",
      "isrevinU gnagoS\n",
      "tisrevinU gnagoS\n",
      "ytisrevinU gnagoS\n"
     ]
    }
   ],
   "source": [
    "s = input(\"Input : \")\n",
    "print(\"\")\n",
    "\n",
    "empty_s = ''\n",
    "for i in s :\n",
    "    empty_s = i + empty_s\n",
    "    print(empty_s)"
   ]
  },
  {
   "cell_type": "code",
   "execution_count": 6,
   "id": "aaf2efcc-df78-43c9-b111-9abb794fda57",
   "metadata": {},
   "outputs": [
    {
     "name": "stdout",
     "output_type": "stream",
     "text": [
      "Writing inverseIn.txt\n"
     ]
    }
   ],
   "source": [
    "%%writefile inverseIn.txt\n",
    "\n",
    "s = input(\"Input : \")\n",
    "print(\"\")\n",
    "\n",
    "empty_s = ''\n",
    "for i in s :\n",
    "    empty_s = i + empty_s\n",
    "    print(empty_s)"
   ]
  },
  {
   "cell_type": "code",
   "execution_count": 7,
   "id": "895c545d-9be9-4cac-b7c6-b6c335bbd4aa",
   "metadata": {},
   "outputs": [
    {
     "name": "stdin",
     "output_type": "stream",
     "text": [
      "Input :  Sogang University\n"
     ]
    },
    {
     "name": "stdout",
     "output_type": "stream",
     "text": [
      "\n",
      "S\n",
      "oS\n",
      "goS\n",
      "agoS\n",
      "nagoS\n",
      "gnagoS\n",
      " gnagoS\n",
      "U gnagoS\n",
      "nU gnagoS\n",
      "inU gnagoS\n",
      "vinU gnagoS\n",
      "evinU gnagoS\n",
      "revinU gnagoS\n",
      "srevinU gnagoS\n",
      "isrevinU gnagoS\n",
      "tisrevinU gnagoS\n",
      "ytisrevinU gnagoS\n"
     ]
    }
   ],
   "source": [
    "%run inverseIn.txt"
   ]
  }
 ],
 "metadata": {
  "kernelspec": {
   "display_name": "Python 3 (ipykernel)",
   "language": "python",
   "name": "python3"
  },
  "language_info": {
   "codemirror_mode": {
    "name": "ipython",
    "version": 3
   },
   "file_extension": ".py",
   "mimetype": "text/x-python",
   "name": "python",
   "nbconvert_exporter": "python",
   "pygments_lexer": "ipython3",
   "version": "3.12.4"
  }
 },
 "nbformat": 4,
 "nbformat_minor": 5
}
