{
 "cells": [
  {
   "cell_type": "code",
   "execution_count": 14,
   "id": "695bf610-c4c2-4f4c-99da-05a4eb42007a",
   "metadata": {},
   "outputs": [
    {
     "name": "stdout",
     "output_type": "stream",
     "text": [
      "Overwriting W_2.py\n"
     ]
    }
   ],
   "source": [
    "%%writefile W_2.py\n",
    "import datetime\n",
    "import sys\n",
    "if __name__ == \"__main__\" : \n",
    "    L = sys.argv\n",
    "    t1 = datetime.date(int(L[1]), int(L[2]), int(L[3]))\n",
    "    w1 = t1.weekday()\n",
    "    wdl = [\"월요일\",\"화요일\",\"수요일\",\"목요일\",\"금요일\",\"토요일\",\"일요일\"]\n",
    "\n",
    "    print(wdl[w1])"
   ]
  },
  {
   "cell_type": "code",
   "execution_count": 15,
   "id": "c2052714-a24f-4613-b5d3-84b1eab4d907",
   "metadata": {},
   "outputs": [
    {
     "name": "stdout",
     "output_type": "stream",
     "text": [
      "월요일\n"
     ]
    }
   ],
   "source": [
    "%run W_2.py 2023 12 25"
   ]
  }
 ],
 "metadata": {
  "kernelspec": {
   "display_name": "Python 3 (ipykernel)",
   "language": "python",
   "name": "python3"
  },
  "language_info": {
   "codemirror_mode": {
    "name": "ipython",
    "version": 3
   },
   "file_extension": ".py",
   "mimetype": "text/x-python",
   "name": "python",
   "nbconvert_exporter": "python",
   "pygments_lexer": "ipython3",
   "version": "3.12.4"
  }
 },
 "nbformat": 4,
 "nbformat_minor": 5
}
