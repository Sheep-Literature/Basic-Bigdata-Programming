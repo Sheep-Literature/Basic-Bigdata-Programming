{
 "cells": [
  {
   "cell_type": "code",
   "execution_count": 3,
   "id": "1a97c8d7-caa7-4f57-a497-9287d22a8367",
   "metadata": {},
   "outputs": [
    {
     "name": "stdout",
     "output_type": "stream",
     "text": [
      "Seo\n"
     ]
    },
    {
     "name": "stderr",
     "output_type": "stream",
     "text": [
      "<>:8: SyntaxWarning: invalid escape sequence '\\w'\n",
      "<>:8: SyntaxWarning: invalid escape sequence '\\w'\n",
      "C:\\Users\\user\\AppData\\Local\\Temp\\ipykernel_19000\\1426066513.py:8: SyntaxWarning: invalid escape sequence '\\w'\n",
      "  f = re.compile(\"(?<=<TITLE>)\\w+\")\n"
     ]
    }
   ],
   "source": [
    "data = \"\"\"\n",
    "<HEAD>\n",
    "<TITLE>Seo Maria's Homepage<TITLE>\n",
    "</HEAD>\n",
    "\"\"\"\n",
    "\n",
    "import re \n",
    "f = re.compile(\"(?<=<TITLE>)\\w+\")\n",
    "result = f.search(data)\n",
    "print(result.group())"
   ]
  }
 ],
 "metadata": {
  "kernelspec": {
   "display_name": "Python 3 (ipykernel)",
   "language": "python",
   "name": "python3"
  },
  "language_info": {
   "codemirror_mode": {
    "name": "ipython",
    "version": 3
   },
   "file_extension": ".py",
   "mimetype": "text/x-python",
   "name": "python",
   "nbconvert_exporter": "python",
   "pygments_lexer": "ipython3",
   "version": "3.12.4"
  }
 },
 "nbformat": 4,
 "nbformat_minor": 5
}
