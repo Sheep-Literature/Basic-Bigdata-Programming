{
 "cells": [
  {
   "cell_type": "code",
   "execution_count": 53,
   "id": "afdffe1c-6152-4956-8ad9-b4c77ccf3396",
   "metadata": {
    "scrolled": true
   },
   "outputs": [
    {
     "name": "stdout",
     "output_type": "stream",
     "text": [
      "\n",
      "park SunJe 남890901-******* \n",
      "kim SunHee 여990103-*******\n",
      "\n"
     ]
    },
    {
     "data": {
      "text/plain": [
       "['', 'park SunJe 남890901-******* ', 'kim SunHee 여990103-*******', '']"
      ]
     },
     "execution_count": 53,
     "metadata": {},
     "output_type": "execute_result"
    }
   ],
   "source": [
    "\n",
    "\n",
    "data = '''\n",
    "park SunJe 890901-1074422 \n",
    "kim SunHee 990103-2079912\n",
    "'''\n",
    "\n",
    "result = [] \n",
    "for line in data.split('\\n') :\n",
    "    word_re = [] \n",
    "    for word in line.split(' ') : \n",
    "        if len(word) == 14 and word[:6].isdigit() and word[7:].isdigit() : \n",
    "            if int(word[7]) % 2 == 1 : \n",
    "                word = '남' + word[:6] + '-' + '*******'\n",
    "            else : \n",
    "                word = '여' + word[:6] + '-' + '*******'\n",
    "        word_re.append(word) \n",
    "    result.append(' '.join(word_re))\n",
    "print('\\n'.join(result))\n"
   ]
  },
  {
   "cell_type": "code",
   "execution_count": 63,
   "id": "490bc674-df86-4928-9842-264201fb48f0",
   "metadata": {},
   "outputs": [
    {
     "name": "stdout",
     "output_type": "stream",
     "text": [
      "Overwriting Testdata.txt\n"
     ]
    }
   ],
   "source": [
    "%%writefile Testdata.txt\n",
    "홍길동 560922-1089123 02-705-8491\n",
    "홍길순 560922-2089123 042-7052-8491\n",
    "김바한솔 911212-1089123 042-705-8491\n",
    "김연찬 920922-1089123 031-7054-8491"
   ]
  },
  {
   "cell_type": "code",
   "execution_count": 64,
   "id": "a8fd2256-efdc-4b81-a9db-f8c13c1c2674",
   "metadata": {},
   "outputs": [
    {
     "name": "stdout",
     "output_type": "stream",
     "text": [
      "홍길동 남 560922-******* 02-705-8491\n",
      "홍길순 여 560922-******* 042-7052-8491\n",
      "김바한솔 남 911212-******* 042-705-8491\n",
      "김연찬 남 920922-******* 031-7054-8491\n"
     ]
    }
   ],
   "source": [
    "import re\n",
    "\n",
    "with open('Testdata.txt','rt',encoding ='utf-8') as fp : \n",
    "    lines = fp.readlines() \n",
    "    L = [] \n",
    "    for line in lines : \n",
    "        L.append(line.strip())\n",
    "\n",
    "for e in L  :\n",
    "    name, id, phone = e.split()\n",
    "    if int(id[7]) % 2 == 1 : \n",
    "        id = '남 ' + id[:6] + '-' + '*******'\n",
    "    else : \n",
    "        id = '여 ' + id[:6] + '-' + '*******'\n",
    "    print(name, id, phone)\n",
    "    "
   ]
  }
 ],
 "metadata": {
  "kernelspec": {
   "display_name": "Python 3 (ipykernel)",
   "language": "python",
   "name": "python3"
  },
  "language_info": {
   "codemirror_mode": {
    "name": "ipython",
    "version": 3
   },
   "file_extension": ".py",
   "mimetype": "text/x-python",
   "name": "python",
   "nbconvert_exporter": "python",
   "pygments_lexer": "ipython3",
   "version": "3.12.4"
  }
 },
 "nbformat": 4,
 "nbformat_minor": 5
}
