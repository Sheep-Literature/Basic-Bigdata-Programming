{
  "nbformat": 4,
  "nbformat_minor": 0,
  "metadata": {
    "colab": {
      "provenance": []
    },
    "kernelspec": {
      "name": "python3",
      "display_name": "Python 3"
    },
    "language_info": {
      "name": "python"
    }
  },
  "cells": [
    {
      "cell_type": "code",
      "execution_count": 4,
      "metadata": {
        "colab": {
          "base_uri": "https://localhost:8080/"
        },
        "id": "0I-fYWbpMJVc",
        "outputId": "c6e408a6-c605-40e6-bf1c-657dc4e7f85e"
      },
      "outputs": [
        {
          "output_type": "stream",
          "name": "stdout",
          "text": [
            "23.45\n",
            "5.01\n",
            "889.00\n",
            "69.89\n"
          ]
        }
      ],
      "source": [
        "import re\n",
        "\n",
        "data = \"\"\"\n",
        "ABC01: $23.45\n",
        "HGG42: $5.01\n",
        "CFXE1: $889.00\n",
        "XTC99: $69.89\n",
        "Total items found: 4\n",
        "\"\"\"\n",
        "\n",
        "money = re.findall('(?<=\\$)[0-9.]+', data)\n",
        "\n",
        "for i in money:\n",
        "    print(i)"
      ]
    },
    {
      "cell_type": "code",
      "source": [
        "import re\n",
        "\n",
        "data = \"\"\"\n",
        "I paid $30 for 100 apples,\n",
        "50 oranges, and 60 pears.\n",
        "I saved $5 on this order.\n",
        "\"\"\"\n",
        "\n",
        "money = re.findall(r'\\$(\\d+)', data)\n",
        "\n",
        "count = re.findall(r'(?<!\\$)(\\b\\d+\\b)', data)\n",
        "\n",
        "print(\"가격을 나타내는 숫자들:\")\n",
        "for m in money:\n",
        "    print(m)\n",
        "\n",
        "print()\n",
        "\n",
        "print(\"수량을 나타내는 숫자들:\")\n",
        "for c in count:\n",
        "    print(c)"
      ],
      "metadata": {
        "colab": {
          "base_uri": "https://localhost:8080/"
        },
        "id": "ezXdrjtZNGWs",
        "outputId": "878eeb8d-a136-4c9f-f44c-daa4bc5f0afc"
      },
      "execution_count": 3,
      "outputs": [
        {
          "output_type": "stream",
          "name": "stdout",
          "text": [
            "가격을 나타내는 숫자들:\n",
            "30\n",
            "5\n",
            "\n",
            "수량을 나타내는 숫자들:\n",
            "100\n",
            "50\n",
            "60\n"
          ]
        }
      ]
    }
  ]
}