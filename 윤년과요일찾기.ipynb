{
 "cells": [
  {
   "cell_type": "markdown",
   "id": "1e1c702d-3f73-44c8-86e1-293b4ddc2639",
   "metadata": {},
   "source": [
    "### input_date() 년 월 일 입력 받는 함수"
   ]
  },
  {
   "cell_type": "code",
   "execution_count": null,
   "id": "098b782f-4217-4bac-bccd-a2725cdf531d",
   "metadata": {},
   "outputs": [],
   "source": [
    "def input_date() : \n",
    "    y = int(input(\"__년도를 입력하시오 : \"))\n",
    "    m = int(input(\"__월을 입력하시오 : \"))\n",
    "    d = int(input(\"__일을 입력하시오 : \"))\n",
    "    return y, m, d"
   ]
  },
  {
   "cell_type": "markdown",
   "id": "48385b62-18be-43ed-b053-bbe63b749053",
   "metadata": {},
   "source": [
    "### get_day_name(year, month, day) 요일 찾는 함수"
   ]
  },
  {
   "cell_type": "code",
   "execution_count": null,
   "id": "760fb954-f47e-43a7-9edf-28dbc26d790d",
   "metadata": {},
   "outputs": [],
   "source": [
    "def get_day_name(year, month, day) : \n",
    "    #월에서 검사\n",
    "    check = True\n",
    "    if month > 12 or month < 1 : \n",
    "        check = False\n",
    "        return check\n",
    "\n",
    "    #월 당 최대 일수 검사\n",
    "    MaxDayList = [31,28,31,30,31,30,31,31,30,31,30,31]\n",
    "\n",
    "    if is_leap(year) == True : \n",
    "        MaxDayList[1] = 29\n",
    "    else : \n",
    "        MaxDayList[1] =  28\n",
    "    \n",
    "    for i in range(12) : \n",
    "        if month == i and day > MaxDayList[i-1] : \n",
    "            check = False\n",
    "            return check\n",
    "            break\n",
    "\n",
    "    # Not 윤년 But 2월29일 검사\n",
    "    if is_leap(year) == False and month == 2 and day == 29 :\n",
    "        check = False \n",
    "        return check \n",
    "\n",
    "    DayNameList = [\"일요일\",\"월요일\", \"화요일\", \"수요일\", \"목요일\", \"금요일\", \"토요일\"]\n",
    "    findday = 1 \n",
    "    for _ in range(1, year) : \n",
    "        if is_leap(year) == True : \n",
    "            findday = findday + 366\n",
    "        else : \n",
    "            findday = findday + 365\n",
    "\n",
    "    for i in range(month-1) : \n",
    "        findday = findday + MaxDayList[i]\n",
    "\n",
    "    return DayNameList[findday % 7]\n"
   ]
  },
  {
   "cell_type": "markdown",
   "id": "0c5724bc-3cce-43ed-8c7b-c47306e88cd4",
   "metadata": {},
   "source": [
    "### is_leap(year) 윤년 찾는 함수"
   ]
  },
  {
   "cell_type": "code",
   "execution_count": null,
   "id": "2de41ce4-2d95-4eed-9619-eb7be0f32156",
   "metadata": {},
   "outputs": [],
   "source": [
    "def is_leap(year) : \n",
    "    if year % 4 == 0 and year % 100 != 0 or year % 400 == 0 : \n",
    "        return True\n",
    "    else :\n",
    "        return False "
   ]
  },
  {
   "cell_type": "markdown",
   "id": "afec31b2-dd47-4b1e-a552-e5a41f7d67ab",
   "metadata": {},
   "source": [
    "### Main 함수"
   ]
  },
  {
   "cell_type": "code",
   "execution_count": null,
   "id": "5a12d4fb-f219-4626-a355-d4e71554bc38",
   "metadata": {},
   "outputs": [],
   "source": [
    "if __name__ == \"__main__\" : \n",
    "\n",
    "    year, month, day = input_date() \n",
    "    day_name = get_day_name(year, month, day)\n",
    "    if day_name == False : \n",
    "        print(\"입력하신 날짜는 존재하지 않습니다\")\n",
    "    else : \n",
    "        print(day_name) # 요일 출력\n",
    "        if is_leap(year) == True : \n",
    "            print(f\"입력하신 {year}은 윤년입니다\")"
   ]
  },
  {
   "cell_type": "markdown",
   "id": "80fdbe56-4244-45af-92c0-9341ed04d374",
   "metadata": {},
   "source": [
    "# In One Cell"
   ]
  },
  {
   "cell_type": "code",
   "execution_count": 4,
   "id": "636f28c6-309f-400c-8a1c-0acc4fe18f12",
   "metadata": {},
   "outputs": [
    {
     "name": "stdin",
     "output_type": "stream",
     "text": [
      "__년도를 입력하시오 :  2024\n",
      "__월을 입력하시오 :  10\n",
      "__일을 입력하시오 :  10\n"
     ]
    },
    {
     "name": "stdout",
     "output_type": "stream",
     "text": [
      "화요일\n",
      "입력하신 2024은 윤년입니다\n"
     ]
    }
   ],
   "source": [
    "def input_date() : \n",
    "    y = int(input(\"__년도를 입력하시오 : \"))\n",
    "    m = int(input(\"__월을 입력하시오 : \"))\n",
    "    d = int(input(\"__일을 입력하시오 : \"))\n",
    "    return y, m, d\n",
    "\n",
    "def get_day_name(year, month, day) : \n",
    "    #월에서 검사\n",
    "    check = True\n",
    "    if month > 12 or month < 1 : \n",
    "        check = False\n",
    "        return check\n",
    "\n",
    "    #월 당 최대 일수 검사\n",
    "    MaxDayList = [31,28,31,30,31,30,31,31,30,31,30,31]\n",
    "\n",
    "    if is_leap(year) == True : \n",
    "        MaxDayList[1] = 29\n",
    "    else : \n",
    "        MaxDayList[1] =  28\n",
    "    \n",
    "    for i in range(12) : \n",
    "        if month == i and day > MaxDayList[i-1] : \n",
    "            check = False\n",
    "            return check\n",
    "            break\n",
    "\n",
    "    #Not 윤년 But 2월29일 검사\n",
    "    if is_leap(year) == False and month == 2 and day == 29 :\n",
    "        check = False \n",
    "        return check \n",
    "\n",
    "    DayNameList = [\"일요일\",\"월요일\", \"화요일\", \"수요일\", \"목요일\", \"금요일\", \"토요일\"]\n",
    "    findday = 1 \n",
    "    for _ in range(1, year) : \n",
    "        if is_leap(year) == True : \n",
    "            findday = findday + 366\n",
    "        else : \n",
    "            findday = findday + 365\n",
    "\n",
    "    for i in range(month-1) : \n",
    "        findday = findday + MaxDayList[i]\n",
    "\n",
    "    return DayNameList[findday % 7]\n",
    "\n",
    "def is_leap(year) : \n",
    "    if year % 4 == 0 and year % 100 != 0 or year % 400 == 0 : \n",
    "        return True\n",
    "    else :\n",
    "        return False \n",
    "\n",
    "if __name__ == \"__main__\" : \n",
    "\n",
    "    year, month, day = input_date() \n",
    "    day_name = get_day_name(year, month, day)\n",
    "    if day_name == False : \n",
    "        print(\"입력하신 날짜는 존재하지 않습니다\")\n",
    "    else : \n",
    "        print(day_name) # 요일 출력\n",
    "        if is_leap(year) == True : \n",
    "            print(f\"입력하신 {year}은 윤년입니다\")"
   ]
  },
  {
   "cell_type": "code",
   "execution_count": 6,
   "id": "c53fb844-f49f-4ab6-b0e9-289e6f96c3d7",
   "metadata": {},
   "outputs": [
    {
     "name": "stdin",
     "output_type": "stream",
     "text": [
      "__년도를 입력하시오:  2024\n",
      "__월을 입력하시오:  10\n",
      "__일을 입력하시오:  11\n"
     ]
    },
    {
     "name": "stdout",
     "output_type": "stream",
     "text": [
      "금요일\n",
      "입력하신 2024은 윤년입니다\n"
     ]
    }
   ],
   "source": [
    "def input_date(): \n",
    "    y = int(input(\"__년도를 입력하시오: \"))\n",
    "    m = int(input(\"__월을 입력하시오: \"))\n",
    "    d = int(input(\"__일을 입력하시오: \"))\n",
    "    return y, m, d\n",
    "\n",
    "def get_day_name(year, month, day): \n",
    "\n",
    "    if month > 12 or month < 1: \n",
    "        return False\n",
    "\n",
    "    MaxDayList = [31, 28, 31, 30, 31, 30, 31, 31, 30, 31, 30, 31]\n",
    "\n",
    "    if is_leap(year): \n",
    "        MaxDayList[1] = 29\n",
    "    \n",
    "    if day > MaxDayList[month - 1]: \n",
    "        return False\n",
    "\n",
    "    DayNameList = [\"월요일\", \"화요일\", \"수요일\", \"목요일\", \"금요일\", \"토요일\", \"일요일\"]\n",
    "\n",
    "    total_days = (year - 1) * 365 + (year - 1) // 4 - (year - 1) // 100 + (year - 1) // 400\n",
    "\n",
    "    for i in range(month - 1): \n",
    "        total_days += MaxDayList[i]\n",
    "\n",
    "    total_days += day - 1\n",
    "\n",
    "    return DayNameList[total_days % 7]\n",
    "\n",
    "def is_leap(year): \n",
    "    return year % 4 == 0 and (year % 100 != 0 or year % 400 == 0)\n",
    "\n",
    "if __name__ == \"__main__\": \n",
    "    year, month, day = input_date() \n",
    "    day_name = get_day_name(year, month, day)\n",
    "    if day_name == False: \n",
    "        print(\"입력하신 날짜는 존재하지 않습니다\")\n",
    "    else: \n",
    "        print(day_name)\n",
    "        if is_leap(year): \n",
    "            print(f\"입력하신 {year}은 윤년입니다\")\n"
   ]
  },
  {
   "cell_type": "code",
   "execution_count": 1,
   "id": "5b4d9881-a86d-4aed-b14e-20a9460577e2",
   "metadata": {},
   "outputs": [
    {
     "name": "stdout",
     "output_type": "stream",
     "text": [
      "Writing Student.py\n"
     ]
    }
   ],
   "source": [
    "%%writefile Student.py\n",
    "\n",
    "class Student:\n",
    "    def __init__(self, num, name, kor, eng, math):\n",
    "        self._num = num          # 학생 번호\n",
    "        self._name = name        # 이름\n",
    "        self._kor = kor          # 국어 점수\n",
    "        self._eng = eng          # 영어 점수\n",
    "        self._math = math        # 수학 점수\n",
    "        self._total = self._calculate_total()  # 총점\n",
    "        self._avg = self._calculate_avg()      # 평균\n",
    "        self._order = 0         # 등수\n",
    "\n",
    "    @property\n",
    "    def num(self):\n",
    "        return self._num\n",
    "\n",
    "    @property\n",
    "    def name(self):\n",
    "        return self._name\n",
    "\n",
    "    @property\n",
    "    def kor(self):\n",
    "        return self._kor\n",
    "\n",
    "    @property\n",
    "    def eng(self):\n",
    "        return self._eng\n",
    "\n",
    "    @property\n",
    "    def math(self):\n",
    "        return self._math\n",
    "\n",
    "    @property\n",
    "    def total(self):\n",
    "        return self._total\n",
    "\n",
    "    @property\n",
    "    def avg(self):\n",
    "        return self._avg\n",
    "\n",
    "    @property\n",
    "    def order(self):\n",
    "        return self._order\n",
    "\n",
    "    def _calculate_total(self):\n",
    "        return self._kor + self._eng + self._math\n",
    "\n",
    "    def _calculate_avg(self):\n",
    "        return round(self._total / 3.0, 2)\n",
    "\n",
    "    def register_student(self, grading_system):\n",
    "        grading_system.add_student(self)"
   ]
  },
  {
   "cell_type": "code",
   "execution_count": 2,
   "id": "cd45176d-b813-47a6-b594-29a7097fc431",
   "metadata": {},
   "outputs": [
    {
     "name": "stdout",
     "output_type": "stream",
     "text": [
      "Writing StudentGradingSystem.py\n"
     ]
    }
   ],
   "source": [
    "%%writefile StudentGradingSystem.py\n",
    "\n",
    "from Student import Student\n",
    "import time\n",
    "\n",
    "def verbose(func):\n",
    "    def run_time(*args, **kwargs):\n",
    "        start = time.time()\n",
    "        result = func(*args, **kwargs)\n",
    "        end = time.time()\n",
    "        print(f'실행시간은 : {end - start:.10f}')\n",
    "        return result\n",
    "    return wrapper\n",
    "\n",
    "class StudentGradingSystem:\n",
    "    def __init__(self):\n",
    "        self._students = []\n",
    "\n",
    "    def add_student(self, student):\n",
    "        self._students.append(student)\n",
    "\n",
    "    @verbose\n",
    "    def process(self):\n",
    "        # 학생의 총점에 따라 등수 계산 및 동점 처리\n",
    "        self._students.sort(key=lambda s: s.total, reverse=True)\n",
    "        \n",
    "        rank = 1\n",
    "        for i in range(len(self._students)):\n",
    "            if i > 0 and self._students[i].total == self._students[i - 1].total:\n",
    "                self._students[i]._order = self._students[i - 1]._order  # 동점 처리\n",
    "            else:\n",
    "                self._students[i]._order = rank\n",
    "            rank += 1\n",
    "        \n",
    "        # 반 평균 계산\n",
    "        total_average = sum(s.total for s in self._students) / len(self._students)\n",
    "        kor_average = sum(s.kor for s in self._students) / len(self._students)\n",
    "        eng_average = sum(s.eng for s in self._students) / len(self._students)\n",
    "        math_average = sum(s.math for s in self._students) / len(self._students)\n",
    "\n",
    "        return total_average, kor_average, eng_average, math_average\n",
    "\n",
    "if __name__ == \"__main__\":\n",
    "    students_data = [\n",
    "        (1, \"서강일\", 90, 80, 85),\n",
    "        (2, \"서강이\", 90, 85, 95),\n",
    "        (3, \"서강삼\", 80, 80, 80),\n",
    "        (4, \"서강사\", 90, 92, 83),\n",
    "        (5, \"서강오\", 85, 90, 90)\n",
    "    ]\n",
    "\n",
    "    grading_system = StudentGradingSystem()\n",
    "\n",
    "    for data in students_data:\n",
    "        student = Student(*data)\n",
    "        student.register_student(grading_system)\n",
    "\n",
    "    total_avg, kor_avg, eng_avg, math_avg = grading_system.process()\n",
    "\n",
    "    for student in grading_system._students:\n",
    "        print(f\"번호 : {student.num}, 이름 : {student.name}, 국어 : {student.kor}, 영어 : {student.eng}, \"\n",
    "              f\"수학 : {student.math}, 총점 : {student.total}, 평균 : {student.avg:.2f}, 등수 : {student.order}\")\n",
    "\n",
    "    print(f\"\\n총점 반평균 : {total_avg:.2f}\")\n",
    "    print(f\"국어 반평균 : {kor_avg:.2f}\")\n",
    "    print(f\"영어 반평균 : {eng_avg:.2f}\")\n",
    "    print(f\"수학 반평균 : {math_avg:.2f}\")"
   ]
  },
  {
   "cell_type": "code",
   "execution_count": 3,
   "id": "613c0843-02b3-4dc0-9fe2-07d8b69b2928",
   "metadata": {},
   "outputs": [
    {
     "name": "stdout",
     "output_type": "stream",
     "text": [
      "실행시간은 : 0.0000000000\n",
      "번호 : 2, 이름 : 서강이, 국어 : 90, 영어 : 85, 수학 : 95, 총점 : 270, 평균 : 90.00, 등수 : 1\n",
      "번호 : 4, 이름 : 서강사, 국어 : 90, 영어 : 92, 수학 : 83, 총점 : 265, 평균 : 88.33, 등수 : 2\n",
      "번호 : 5, 이름 : 서강오, 국어 : 85, 영어 : 90, 수학 : 90, 총점 : 265, 평균 : 88.33, 등수 : 2\n",
      "번호 : 1, 이름 : 서강일, 국어 : 90, 영어 : 80, 수학 : 85, 총점 : 255, 평균 : 85.00, 등수 : 4\n",
      "번호 : 3, 이름 : 서강삼, 국어 : 80, 영어 : 80, 수학 : 80, 총점 : 240, 평균 : 80.00, 등수 : 5\n",
      "\n",
      "총점 반평균 : 259.00\n",
      "국어 반평균 : 87.00\n",
      "영어 반평균 : 85.40\n",
      "수학 반평균 : 86.60\n"
     ]
    }
   ],
   "source": [
    "%run StudentGradingSystem.py"
   ]
  }
 ],
 "metadata": {
  "kernelspec": {
   "display_name": "Python 3 (ipykernel)",
   "language": "python",
   "name": "python3"
  },
  "language_info": {
   "codemirror_mode": {
    "name": "ipython",
    "version": 3
   },
   "file_extension": ".py",
   "mimetype": "text/x-python",
   "name": "python",
   "nbconvert_exporter": "python",
   "pygments_lexer": "ipython3",
   "version": "3.12.4"
  }
 },
 "nbformat": 4,
 "nbformat_minor": 5
}
