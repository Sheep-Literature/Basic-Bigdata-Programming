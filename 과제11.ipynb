{
 "cells": [
  {
   "cell_type": "code",
   "execution_count": 13,
   "id": "596a682b-ba2c-4003-b6d5-7bc6681ac912",
   "metadata": {},
   "outputs": [
    {
     "name": "stdin",
     "output_type": "stream",
     "text": [
      "점수를 입력하시오 :  99\n"
     ]
    },
    {
     "name": "stdout",
     "output_type": "stream",
     "text": [
      "점수는 99입니다.\n"
     ]
    }
   ],
   "source": [
    "class ScoreException(Exception) : \n",
    "    def __init__(self, msg) : \n",
    "        self._message = msg \n",
    "\n",
    "def input_score() : \n",
    "    score = int(input(\"점수를 입력하시오 : \"))\n",
    "\n",
    "    if score < 0 or score > 100 : \n",
    "        raise ScoreException(\"점수는 0점에서 100점 사이의 값이어야 합니다.\")\n",
    "\n",
    "    else : return score \n",
    "\n",
    "if __name__ == \"__main__\" : \n",
    "    try : \n",
    "        score = input_score() \n",
    "    except ScoreException as s :\n",
    "        print(s.args[0])\n",
    "    else : \n",
    "        print(f\"점수는 {score}입니다.\")\n",
    "\n"
   ]
  },
  {
   "cell_type": "code",
   "execution_count": null,
   "id": "52e0a977-f441-4cf4-ac7f-ddf1efc73f81",
   "metadata": {},
   "outputs": [],
   "source": []
  }
 ],
 "metadata": {
  "kernelspec": {
   "display_name": "Python 3 (ipykernel)",
   "language": "python",
   "name": "python3"
  },
  "language_info": {
   "codemirror_mode": {
    "name": "ipython",
    "version": 3
   },
   "file_extension": ".py",
   "mimetype": "text/x-python",
   "name": "python",
   "nbconvert_exporter": "python",
   "pygments_lexer": "ipython3",
   "version": "3.12.4"
  }
 },
 "nbformat": 4,
 "nbformat_minor": 5
}
