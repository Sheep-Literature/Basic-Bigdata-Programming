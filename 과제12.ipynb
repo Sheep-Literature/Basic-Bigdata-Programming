{
 "cells": [
  {
   "cell_type": "code",
   "execution_count": 20,
   "id": "7fbd4bfd-4071-4d07-a558-b929146611f6",
   "metadata": {},
   "outputs": [
    {
     "name": "stdin",
     "output_type": "stream",
     "text": [
      "인덱스를 입력하시오 :  3\n"
     ]
    },
    {
     "name": "stdout",
     "output_type": "stream",
     "text": [
      "3\n"
     ]
    },
    {
     "name": "stdin",
     "output_type": "stream",
     "text": [
      "인덱스를 입력하시오 :  6\n"
     ]
    },
    {
     "name": "stdout",
     "output_type": "stream",
     "text": [
      "6\n"
     ]
    },
    {
     "name": "stdin",
     "output_type": "stream",
     "text": [
      "인덱스를 입력하시오 :  -1\n"
     ]
    },
    {
     "name": "stdout",
     "output_type": "stream",
     "text": [
      "10\n"
     ]
    },
    {
     "name": "stdin",
     "output_type": "stream",
     "text": [
      "인덱스를 입력하시오 :  -3\n"
     ]
    },
    {
     "name": "stdout",
     "output_type": "stream",
     "text": [
      "8\n"
     ]
    },
    {
     "name": "stdin",
     "output_type": "stream",
     "text": [
      "인덱스를 입력하시오 :  -12\n"
     ]
    },
    {
     "name": "stdout",
     "output_type": "stream",
     "text": [
      "-1\n"
     ]
    },
    {
     "name": "stdin",
     "output_type": "stream",
     "text": [
      "인덱스를 입력하시오 :  23455\n"
     ]
    },
    {
     "name": "stdout",
     "output_type": "stream",
     "text": [
      "-1\n"
     ]
    },
    {
     "name": "stdin",
     "output_type": "stream",
     "text": [
      "인덱스를 입력하시오 :  \n"
     ]
    },
    {
     "name": "stdout",
     "output_type": "stream",
     "text": [
      "프로그램을 종료합니다\n"
     ]
    }
   ],
   "source": [
    "def input_index():\n",
    "    try:\n",
    "        idx = int(input(\"인덱스를 입력하시오 : \"))\n",
    "        if idx > 10 or idx < -10:\n",
    "            raise IndexError(-1)\n",
    "        return idx\n",
    "        \n",
    "    except ValueError:\n",
    "        raise ValueError(\"프로그램을 종료합니다\")\n",
    "\n",
    "if __name__ == \"__main__\":\n",
    "    num = [0, 1, 2, 3, 4, 5, 6, 7, 8, 9, 10]\n",
    "    while True : \n",
    "        try:\n",
    "            idx = input_index()\n",
    "            print(f\"{num[idx]}\")\n",
    "        except IndexError as i:\n",
    "            print(i)\n",
    "        except ValueError as v:\n",
    "            print(v)\n",
    "            break\n",
    "            \n",
    "        "
   ]
  }
 ],
 "metadata": {
  "kernelspec": {
   "display_name": "Python 3 (ipykernel)",
   "language": "python",
   "name": "python3"
  },
  "language_info": {
   "codemirror_mode": {
    "name": "ipython",
    "version": 3
   },
   "file_extension": ".py",
   "mimetype": "text/x-python",
   "name": "python",
   "nbconvert_exporter": "python",
   "pygments_lexer": "ipython3",
   "version": "3.12.4"
  }
 },
 "nbformat": 4,
 "nbformat_minor": 5
}
