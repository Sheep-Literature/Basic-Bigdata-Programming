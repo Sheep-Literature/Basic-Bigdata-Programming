{
  "nbformat": 4,
  "nbformat_minor": 0,
  "metadata": {
    "colab": {
      "provenance": []
    },
    "kernelspec": {
      "name": "python3",
      "display_name": "Python 3"
    },
    "language_info": {
      "name": "python"
    }
  },
  "cells": [
    {
      "cell_type": "code",
      "source": [
        "import re\n",
        "\n",
        "def square(match) :\n",
        "  \"Return square value\"\n",
        "  value = int(match.group())\n",
        "  new = value * value\n",
        "  return str(new)\n",
        "\n",
        "p = re.compile(r\"\\d+\")\n",
        "p.sub(square, \"Please, square the following numbers, 3 7 11 13 17 19\")"
      ],
      "metadata": {
        "colab": {
          "base_uri": "https://localhost:8080/",
          "height": 35
        },
        "id": "cegBbC4TcJ5X",
        "outputId": "8eb70d03-e2be-4476-cfc5-665f179330f7"
      },
      "execution_count": 46,
      "outputs": [
        {
          "output_type": "execute_result",
          "data": {
            "text/plain": [
              "'Please, square the following numbers, 9 49 121 169 289 361'"
            ],
            "application/vnd.google.colaboratory.intrinsic+json": {
              "type": "string"
            }
          },
          "metadata": {},
          "execution_count": 46
        }
      ]
    }
  ]
}